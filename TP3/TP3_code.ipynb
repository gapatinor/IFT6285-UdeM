{
 "cells": [
  {
   "cell_type": "code",
   "execution_count": 6,
   "metadata": {},
   "outputs": [
    {
     "name": "stdout",
     "output_type": "stream",
     "text": [
      "finish loading\n"
     ]
    }
   ],
   "source": [
    "import gensim.downloader as api\n",
    "import pandas as pd\n",
    "import numpy as np\n",
    "import time\n",
    "\n",
    "tic = time.process_time()\n",
    "wv = api.load('word2vec-google-news-300')\n",
    "print(\"finish loading\")"
   ]
  },
  {
   "cell_type": "code",
   "execution_count": null,
   "metadata": {
    "scrolled": false
   },
   "outputs": [],
   "source": [
    "#print the final file to submit to kaggle \n",
    "def write_results(final_similar):\n",
    "     with open('voisins.csv', mode='w') as csv_file:\n",
    "         fieldnames = ['word', 'number','closer words']\n",
    "         writer = csv.DictWriter(csv_file, fieldnames=fieldnames)\n",
    "         writer.writeheader()\n",
    "         for key in final_similar:\n",
    "            word=key\n",
    "            number_words=final_similar[key][0] \n",
    "            closer_words=final_similar[key][1]\n",
    "            closer_words= \" \".join(closer_words) \n",
    "            writer.writerow({'word': word, 'number': number_words, 'closer words': closer_words})\n",
    "\n",
    "\n",
    "f=open('table_freq.txt', \"r\")\n",
    "lines=f.readlines()\n",
    "\n",
    "words=[]\n",
    "for line in lines:\n",
    "    line=line.split(\" \")[0]\n",
    "    words.append(line)\n",
    "\n",
    "count=1  \n",
    "\n",
    "similar_dic={}\n",
    "for word in words: \n",
    "   print(count) \n",
    "   try: \n",
    "     similar=wv.most_similar(positive=word, topn=10)\n",
    "     sim_words=[]   \n",
    "     for sim in similar:\n",
    "        sim_words.append(sim[0])\n",
    "     #print(count, word,\":\", similar)\n",
    "     similar_dic[word]=sim_words\n",
    "   except:\n",
    "    \"not\"\n",
    "   if(count==10): break\n",
    "   count+=1 \n",
    " \n",
    "print(similar_dic)    \n",
    "#toc = time.process_time()\n",
    "#total_time=toc-tic'''\n",
    "\n"
   ]
  },
  {
   "cell_type": "code",
   "execution_count": null,
   "metadata": {},
   "outputs": [],
   "source": []
  },
  {
   "cell_type": "code",
   "execution_count": null,
   "metadata": {},
   "outputs": [],
   "source": []
  }
 ],
 "metadata": {
  "kernelspec": {
   "display_name": "Python 3",
   "language": "python",
   "name": "python3"
  },
  "language_info": {
   "codemirror_mode": {
    "name": "ipython",
    "version": 3
   },
   "file_extension": ".py",
   "mimetype": "text/x-python",
   "name": "python",
   "nbconvert_exporter": "python",
   "pygments_lexer": "ipython3",
   "version": "3.7.4"
  }
 },
 "nbformat": 4,
 "nbformat_minor": 2
}
